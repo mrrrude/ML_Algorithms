{
  "nbformat": 4,
  "nbformat_minor": 0,
  "metadata": {
    "colab": {
      "name": "boston_regresson_using_autosklearn.ipynb",
      "provenance": []
    },
    "kernelspec": {
      "name": "python3",
      "display_name": "Python 3"
    },
    "accelerator": "GPU"
  },
  "cells": [
    {
      "cell_type": "code",
      "metadata": {
        "id": "wMROYMiDnN08",
        "colab_type": "code",
        "colab": {}
      },
      "source": [
        "! apt-get install swig -y\n",
        "!pip install Cython numpy\n",
        "!pip install auto-sklearn"
      ],
      "execution_count": 0,
      "outputs": []
    },
    {
      "cell_type": "code",
      "metadata": {
        "id": "JKEiscswnSlK",
        "colab_type": "code",
        "colab": {}
      },
      "source": [
        "import sklearn\n",
        "from sklearn import datasets\n",
        "import autosklearn.regression as regressor\n",
        "from sklearn.model_selection import train_test_split\n",
        "from sklearn import metrics"
      ],
      "execution_count": 0,
      "outputs": []
    },
    {
      "cell_type": "code",
      "metadata": {
        "id": "FUir11DZowqU",
        "colab_type": "code",
        "colab": {}
      },
      "source": [
        "#Load_Dataset \n",
        "X , y= sklearn.datasets.load_boston(return_X_y=True)\n",
        "X_train , X_test , y_train , y_test= train_test_split(X , y , random_state=0)\n"
      ],
      "execution_count": 0,
      "outputs": []
    },
    {
      "cell_type": "code",
      "metadata": {
        "id": "HcUlfezKpa8e",
        "colab_type": "code",
        "colab": {}
      },
      "source": [
        "#print(X.shape)==506 ,13\n",
        "#print(y.shape)==506,0\n",
        "# Now define your model\n",
        "automlRegressor= regressor.AutoSklearnRegressor(time_left_for_this_task=300, per_run_time_limit=50)\n",
        "automlRegressor.fit(X , y)"
      ],
      "execution_count": 0,
      "outputs": []
    },
    {
      "cell_type": "code",
      "metadata": {
        "id": "uAEcVet-pnMy",
        "colab_type": "code",
        "colab": {
          "base_uri": "https://localhost:8080/",
          "height": 54
        },
        "outputId": "459edbdc-2cd2-47c8-cf38-2282072c52bc"
      },
      "source": [
        "from sklearn.metrics import accuracy_score\n",
        "from sklearn.metrics import mean_squared_error\n",
        "import numpy as np\n",
        "y_pred=automlRegressor.predict(X_test) \n",
        "rmse=np.sqrt(mean_squared_error(y_test, y_pred))\n",
        "print(sklearn.metrics.r2_score(y_test , y_pred))\n",
        "print(rmse)\n",
        "#FOR TIME_TO_END==180 , accuracy=0.32\n",
        "\n",
        "\n",
        "\n"
      ],
      "execution_count": 39,
      "outputs": [
        {
          "output_type": "stream",
          "text": [
            "0.9479214583763366\n",
            "2.062708310959602\n"
          ],
          "name": "stdout"
        }
      ]
    },
    {
      "cell_type": "code",
      "metadata": {
        "id": "5X_M-CuMrnTV",
        "colab_type": "code",
        "colab": {
          "base_uri": "https://localhost:8080/",
          "height": 56
        },
        "outputId": "558979e3-c01a-4721-8172-c5b863188bcf"
      },
      "source": [
        "automlRegressor.show_models()"
      ],
      "execution_count": 41,
      "outputs": [
        {
          "output_type": "execute_result",
          "data": {
            "text/plain": [
              "\"[(0.220000, SimpleRegressionPipeline({'categorical_encoding:__choice__': 'no_encoding', 'imputation:strategy': 'median', 'preprocessor:__choice__': 'no_preprocessing', 'regressor:__choice__': 'decision_tree', 'rescaling:__choice__': 'quantile_transformer', 'regressor:decision_tree:criterion': 'friedman_mse', 'regressor:decision_tree:max_depth_factor': 1.5341519009709539, 'regressor:decision_tree:max_features': 1.0, 'regressor:decision_tree:max_leaf_nodes': 'None', 'regressor:decision_tree:min_impurity_decrease': 0.0, 'regressor:decision_tree:min_samples_leaf': 2, 'regressor:decision_tree:min_samples_split': 4, 'regressor:decision_tree:min_weight_fraction_leaf': 0.0, 'rescaling:quantile_transformer:n_quantiles': 1540, 'rescaling:quantile_transformer:output_distribution': 'normal'},\\ndataset_properties={\\n  'task': 4,\\n  'sparse': False,\\n  'multilabel': False,\\n  'multiclass': False,\\n  'target_type': 'regression',\\n  'signed': False})),\\n(0.200000, SimpleRegressionPipeline({'categorical_encoding:__choice__': 'no_encoding', 'imputation:strategy': 'most_frequent', 'preprocessor:__choice__': 'random_trees_embedding', 'regressor:__choice__': 'libsvm_svr', 'rescaling:__choice__': 'normalize', 'preprocessor:random_trees_embedding:bootstrap': 'True', 'preprocessor:random_trees_embedding:max_depth': 8, 'preprocessor:random_trees_embedding:max_leaf_nodes': 'None', 'preprocessor:random_trees_embedding:min_samples_leaf': 3, 'preprocessor:random_trees_embedding:min_samples_split': 2, 'preprocessor:random_trees_embedding:min_weight_fraction_leaf': 1.0, 'preprocessor:random_trees_embedding:n_estimators': 84, 'regressor:libsvm_svr:C': 8.427934543239106, 'regressor:libsvm_svr:epsilon': 0.015497986578936432, 'regressor:libsvm_svr:kernel': 'rbf', 'regressor:libsvm_svr:max_iter': -1, 'regressor:libsvm_svr:shrinking': 'True', 'regressor:libsvm_svr:tol': 0.0014837492261602007, 'regressor:libsvm_svr:degree': 2, 'regressor:libsvm_svr:gamma': 0.00963999807339203},\\ndataset_properties={\\n  'task': 4,\\n  'sparse': False,\\n  'multilabel': False,\\n  'multiclass': False,\\n  'target_type': 'regression',\\n  'signed': False})),\\n(0.140000, SimpleRegressionPipeline({'categorical_encoding:__choice__': 'one_hot_encoding', 'imputation:strategy': 'mean', 'preprocessor:__choice__': 'feature_agglomeration', 'regressor:__choice__': 'adaboost', 'rescaling:__choice__': 'standardize', 'categorical_encoding:one_hot_encoding:use_minimum_fraction': 'False', 'preprocessor:feature_agglomeration:affinity': 'euclidean', 'preprocessor:feature_agglomeration:linkage': 'ward', 'preprocessor:feature_agglomeration:n_clusters': 66, 'preprocessor:feature_agglomeration:pooling_func': 'median', 'regressor:adaboost:learning_rate': 1.1026424235402368, 'regressor:adaboost:loss': 'square', 'regressor:adaboost:max_depth': 10, 'regressor:adaboost:n_estimators': 158},\\ndataset_properties={\\n  'task': 4,\\n  'sparse': False,\\n  'multilabel': False,\\n  'multiclass': False,\\n  'target_type': 'regression',\\n  'signed': False})),\\n(0.120000, SimpleRegressionPipeline({'categorical_encoding:__choice__': 'one_hot_encoding', 'imputation:strategy': 'mean', 'preprocessor:__choice__': 'select_percentile_regression', 'regressor:__choice__': 'gradient_boosting', 'rescaling:__choice__': 'standardize', 'categorical_encoding:one_hot_encoding:use_minimum_fraction': 'True', 'preprocessor:select_percentile_regression:percentile': 72.03191336897976, 'preprocessor:select_percentile_regression:score_func': 'mutual_info', 'regressor:gradient_boosting:early_stop': 'train', 'regressor:gradient_boosting:l2_regularization': 2.5352504534709817e-10, 'regressor:gradient_boosting:learning_rate': 0.14695371855841044, 'regressor:gradient_boosting:loss': 'least_squares', 'regressor:gradient_boosting:max_bins': 256, 'regressor:gradient_boosting:max_depth': 'None', 'regressor:gradient_boosting:max_iter': 453, 'regressor:gradient_boosting:max_leaf_nodes': 11, 'regressor:gradient_boosting:min_samples_leaf': 45, 'regressor:gradient_boosting:scoring': 'loss', 'regressor:gradient_boosting:tol': 1e-07, 'categorical_encoding:one_hot_encoding:minimum_fraction': 0.000254509169472796, 'regressor:gradient_boosting:n_iter_no_change': 2},\\ndataset_properties={\\n  'task': 4,\\n  'sparse': False,\\n  'multilabel': False,\\n  'multiclass': False,\\n  'target_type': 'regression',\\n  'signed': False})),\\n(0.120000, SimpleRegressionPipeline({'categorical_encoding:__choice__': 'no_encoding', 'imputation:strategy': 'mean', 'preprocessor:__choice__': 'kitchen_sinks', 'regressor:__choice__': 'ard_regression', 'rescaling:__choice__': 'minmax', 'preprocessor:kitchen_sinks:gamma': 0.03765128425670148, 'preprocessor:kitchen_sinks:n_components': 50, 'regressor:ard_regression:alpha_1': 0.0008872080901387211, 'regressor:ard_regression:alpha_2': 2.901402531569656e-08, 'regressor:ard_regression:fit_intercept': 'True', 'regressor:ard_regression:lambda_1': 2.99730851711855e-10, 'regressor:ard_regression:lambda_2': 1.7141798948980738e-09, 'regressor:ard_regression:n_iter': 300, 'regressor:ard_regression:threshold_lambda': 4062.8887818094286, 'regressor:ard_regression:tol': 0.005852116257630013},\\ndataset_properties={\\n  'task': 4,\\n  'sparse': False,\\n  'multilabel': False,\\n  'multiclass': False,\\n  'target_type': 'regression',\\n  'signed': False})),\\n(0.100000, SimpleRegressionPipeline({'categorical_encoding:__choice__': 'one_hot_encoding', 'imputation:strategy': 'most_frequent', 'preprocessor:__choice__': 'polynomial', 'regressor:__choice__': 'extra_trees', 'rescaling:__choice__': 'none', 'categorical_encoding:one_hot_encoding:use_minimum_fraction': 'True', 'preprocessor:polynomial:degree': 3, 'preprocessor:polynomial:include_bias': 'False', 'preprocessor:polynomial:interaction_only': 'False', 'regressor:extra_trees:bootstrap': 'True', 'regressor:extra_trees:criterion': 'mse', 'regressor:extra_trees:max_depth': 'None', 'regressor:extra_trees:max_features': 0.629124578804941, 'regressor:extra_trees:max_leaf_nodes': 'None', 'regressor:extra_trees:min_impurity_decrease': 0.0, 'regressor:extra_trees:min_samples_leaf': 2, 'regressor:extra_trees:min_samples_split': 3, 'regressor:extra_trees:n_estimators': 100, 'categorical_encoding:one_hot_encoding:minimum_fraction': 0.00680686440790477},\\ndataset_properties={\\n  'task': 4,\\n  'sparse': False,\\n  'multilabel': False,\\n  'multiclass': False,\\n  'target_type': 'regression',\\n  'signed': False})),\\n(0.040000, SimpleRegressionPipeline({'categorical_encoding:__choice__': 'one_hot_encoding', 'imputation:strategy': 'mean', 'preprocessor:__choice__': 'feature_agglomeration', 'regressor:__choice__': 'random_forest', 'rescaling:__choice__': 'quantile_transformer', 'categorical_encoding:one_hot_encoding:use_minimum_fraction': 'True', 'preprocessor:feature_agglomeration:affinity': 'euclidean', 'preprocessor:feature_agglomeration:linkage': 'complete', 'preprocessor:feature_agglomeration:n_clusters': 359, 'preprocessor:feature_agglomeration:pooling_func': 'median', 'regressor:random_forest:bootstrap': 'True', 'regressor:random_forest:criterion': 'mae', 'regressor:random_forest:max_depth': 'None', 'regressor:random_forest:max_features': 0.7858925233073942, 'regressor:random_forest:max_leaf_nodes': 'None', 'regressor:random_forest:min_impurity_decrease': 0.0, 'regressor:random_forest:min_samples_leaf': 1, 'regressor:random_forest:min_samples_split': 19, 'regressor:random_forest:min_weight_fraction_leaf': 0.0, 'regressor:random_forest:n_estimators': 100, 'rescaling:quantile_transformer:n_quantiles': 1516, 'rescaling:quantile_transformer:output_distribution': 'uniform', 'categorical_encoding:one_hot_encoding:minimum_fraction': 0.03380444682000284},\\ndataset_properties={\\n  'task': 4,\\n  'sparse': False,\\n  'multilabel': False,\\n  'multiclass': False,\\n  'target_type': 'regression',\\n  'signed': False})),\\n(0.040000, SimpleRegressionPipeline({'categorical_encoding:__choice__': 'no_encoding', 'imputation:strategy': 'mean', 'preprocessor:__choice__': 'feature_agglomeration', 'regressor:__choice__': 'gaussian_process', 'rescaling:__choice__': 'standardize', 'preprocessor:feature_agglomeration:affinity': 'euclidean', 'preprocessor:feature_agglomeration:linkage': 'average', 'preprocessor:feature_agglomeration:n_clusters': 363, 'preprocessor:feature_agglomeration:pooling_func': 'max', 'regressor:gaussian_process:alpha': 9.999999999999982e-09, 'regressor:gaussian_process:thetaL': 1.0000000000000004e-06, 'regressor:gaussian_process:thetaU': 100000.0},\\ndataset_properties={\\n  'task': 4,\\n  'sparse': False,\\n  'multilabel': False,\\n  'multiclass': False,\\n  'target_type': 'regression',\\n  'signed': False})),\\n(0.020000, SimpleRegressionPipeline({'categorical_encoding:__choice__': 'one_hot_encoding', 'imputation:strategy': 'most_frequent', 'preprocessor:__choice__': 'fast_ica', 'regressor:__choice__': 'gradient_boosting', 'rescaling:__choice__': 'normalize', 'categorical_encoding:one_hot_encoding:use_minimum_fraction': 'True', 'preprocessor:fast_ica:algorithm': 'parallel', 'preprocessor:fast_ica:fun': 'exp', 'preprocessor:fast_ica:whiten': 'True', 'regressor:gradient_boosting:early_stop': 'train', 'regressor:gradient_boosting:l2_regularization': 4.312302313727514e-05, 'regressor:gradient_boosting:learning_rate': 0.015379641527721578, 'regressor:gradient_boosting:loss': 'least_squares', 'regressor:gradient_boosting:max_bins': 256, 'regressor:gradient_boosting:max_depth': 'None', 'regressor:gradient_boosting:max_iter': 428, 'regressor:gradient_boosting:max_leaf_nodes': 8, 'regressor:gradient_boosting:min_samples_leaf': 2, 'regressor:gradient_boosting:scoring': 'loss', 'regressor:gradient_boosting:tol': 1e-07, 'categorical_encoding:one_hot_encoding:minimum_fraction': 0.0012396753684795613, 'preprocessor:fast_ica:n_components': 1398, 'regressor:gradient_boosting:n_iter_no_change': 1},\\ndataset_properties={\\n  'task': 4,\\n  'sparse': False,\\n  'multilabel': False,\\n  'multiclass': False,\\n  'target_type': 'regression',\\n  'signed': False})),\\n]\""
            ]
          },
          "metadata": {
            "tags": []
          },
          "execution_count": 41
        }
      ]
    },
    {
      "cell_type": "code",
      "metadata": {
        "id": "6YVLCD34zC__",
        "colab_type": "code",
        "colab": {}
      },
      "source": [
        ""
      ],
      "execution_count": 0,
      "outputs": []
    }
  ]
}