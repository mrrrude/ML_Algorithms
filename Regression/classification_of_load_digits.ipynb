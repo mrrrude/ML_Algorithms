{
  "nbformat": 4,
  "nbformat_minor": 0,
  "metadata": {
    "colab": {
      "name": "classification_of_load_digits.ipynb",
      "provenance": []
    },
    "kernelspec": {
      "name": "python3",
      "display_name": "Python 3"
    },
    "accelerator": "GPU"
  },
  "cells": [
    {
      "cell_type": "code",
      "metadata": {
        "id": "wMROYMiDnN08",
        "colab_type": "code",
        "colab": {}
      },
      "source": [
        "! apt-get install swig -y\n",
        "!pip install Cython numpy\n",
        "!pip install auto-sklearn"
      ],
      "execution_count": 0,
      "outputs": []
    },
    {
      "cell_type": "code",
      "metadata": {
        "id": "JKEiscswnSlK",
        "colab_type": "code",
        "colab": {}
      },
      "source": [
        "import sklearn\n",
        "from sklearn import datasets\n",
        "import autosklearn.classification as classifier\n",
        "from sklearn.model_selection import train_test_split\n",
        "from sklearn import metrics\n",
        "from sklearn.metrics import accuracy_score\n",
        "import numpy as np"
      ],
      "execution_count": 0,
      "outputs": []
    },
    {
      "cell_type": "code",
      "metadata": {
        "id": "FUir11DZowqU",
        "colab_type": "code",
        "colab": {}
      },
      "source": [
        "#Load_Dataset \n",
        "X , y= sklearn.datasets.load_digits(return_X_y=True)\n",
        "X_train , X_test , y_train , y_test= train_test_split(X , y , random_state=0)\n"
      ],
      "execution_count": 0,
      "outputs": []
    },
    {
      "cell_type": "code",
      "metadata": {
        "id": "HcUlfezKpa8e",
        "colab_type": "code",
        "colab": {
          "base_uri": "https://localhost:8080/",
          "height": 374
        },
        "outputId": "a367a962-32eb-4b29-85e3-c3ac7c127daa"
      },
      "source": [
        "print(X.shape)\n",
        "print(y.shape)\n",
        "# Now define your model\n",
        "automlClassifier= classifier.AutoSklearnClassifier(time_left_for_this_task=180, per_run_time_limit=30)\n",
        "automlClassifier.fit(X , y)"
      ],
      "execution_count": 50,
      "outputs": [
        {
          "output_type": "stream",
          "text": [
            "(1797, 64)\n",
            "(1797,)\n",
            "[WARNING] [2020-01-09 10:27:59,933:EnsembleBuilder(1):83d02d7648e6d94426ba668f4bf0546f] No models better than random - using Dummy Score!\n",
            "[WARNING] [2020-01-09 10:27:59,941:EnsembleBuilder(1):83d02d7648e6d94426ba668f4bf0546f] No models better than random - using Dummy Score!\n"
          ],
          "name": "stdout"
        },
        {
          "output_type": "execute_result",
          "data": {
            "text/plain": [
              "AutoSklearnClassifier(delete_output_folder_after_terminate=True,\n",
              "                      delete_tmp_folder_after_terminate=True,\n",
              "                      disable_evaluator_output=False,\n",
              "                      ensemble_memory_limit=1024, ensemble_nbest=50,\n",
              "                      ensemble_size=50, exclude_estimators=None,\n",
              "                      exclude_preprocessors=None, get_smac_object_callback=None,\n",
              "                      include_estimators=None, include_preprocessors=None,\n",
              "                      initial_configurations_via_metalearning=25,\n",
              "                      logging_config=None, metadata_directory=None,\n",
              "                      ml_memory_limit=3072, n_jobs=None, output_folder=None,\n",
              "                      per_run_time_limit=30, resampling_strategy='holdout',\n",
              "                      resampling_strategy_arguments=None, seed=1,\n",
              "                      shared_mode=False, smac_scenario_args=None,\n",
              "                      time_left_for_this_task=180, tmp_folder=None)"
            ]
          },
          "metadata": {
            "tags": []
          },
          "execution_count": 50
        }
      ]
    },
    {
      "cell_type": "code",
      "metadata": {
        "id": "uAEcVet-pnMy",
        "colab_type": "code",
        "colab": {
          "base_uri": "https://localhost:8080/",
          "height": 54
        },
        "outputId": "5b9317a4-4ad5-443e-84c0-a060d6356585"
      },
      "source": [
        "\n",
        "y_pred=automlClassifier.predict(X_test) \n",
        "rmse=np.sqrt(mean_squared_error(y_test, y_pred))\n",
        "print(sklearn.metrics.r2_score(y_test , y_pred))\n",
        "print(rmse)\n",
        "#FOR TIME_TO_END==180 , accuracy=0.92\n",
        "\n",
        "\n",
        "\n"
      ],
      "execution_count": 51,
      "outputs": [
        {
          "output_type": "stream",
          "text": [
            "0.9900367839476599\n",
            "0.282842712474619\n"
          ],
          "name": "stdout"
        }
      ]
    },
    {
      "cell_type": "code",
      "metadata": {
        "id": "5X_M-CuMrnTV",
        "colab_type": "code",
        "colab": {
          "base_uri": "https://localhost:8080/",
          "height": 56
        },
        "outputId": "8647e113-938e-4fbd-95e7-e00b8d3b4f5e"
      },
      "source": [
        "automlRegressor.show_models()"
      ],
      "execution_count": 52,
      "outputs": [
        {
          "output_type": "execute_result",
          "data": {
            "text/plain": [
              "\"[(0.440000, SimpleRegressionPipeline({'categorical_encoding:__choice__': 'one_hot_encoding', 'imputation:strategy': 'mean', 'preprocessor:__choice__': 'no_preprocessing', 'regressor:__choice__': 'random_forest', 'rescaling:__choice__': 'standardize', 'categorical_encoding:one_hot_encoding:use_minimum_fraction': 'True', 'regressor:random_forest:bootstrap': 'True', 'regressor:random_forest:criterion': 'mse', 'regressor:random_forest:max_depth': 'None', 'regressor:random_forest:max_features': 1.0, 'regressor:random_forest:max_leaf_nodes': 'None', 'regressor:random_forest:min_impurity_decrease': 0.0, 'regressor:random_forest:min_samples_leaf': 1, 'regressor:random_forest:min_samples_split': 2, 'regressor:random_forest:min_weight_fraction_leaf': 0.0, 'regressor:random_forest:n_estimators': 100, 'categorical_encoding:one_hot_encoding:minimum_fraction': 0.01},\\ndataset_properties={\\n  'task': 4,\\n  'sparse': False,\\n  'multilabel': False,\\n  'multiclass': False,\\n  'target_type': 'regression',\\n  'signed': False})),\\n(0.180000, SimpleRegressionPipeline({'categorical_encoding:__choice__': 'one_hot_encoding', 'imputation:strategy': 'most_frequent', 'preprocessor:__choice__': 'select_percentile_regression', 'regressor:__choice__': 'k_nearest_neighbors', 'rescaling:__choice__': 'standardize', 'categorical_encoding:one_hot_encoding:use_minimum_fraction': 'False', 'preprocessor:select_percentile_regression:percentile': 64.26658897218108, 'preprocessor:select_percentile_regression:score_func': 'f_regression', 'regressor:k_nearest_neighbors:n_neighbors': 1, 'regressor:k_nearest_neighbors:p': 1, 'regressor:k_nearest_neighbors:weights': 'distance'},\\ndataset_properties={\\n  'task': 4,\\n  'sparse': False,\\n  'multilabel': False,\\n  'multiclass': False,\\n  'target_type': 'regression',\\n  'signed': False})),\\n(0.160000, SimpleRegressionPipeline({'categorical_encoding:__choice__': 'one_hot_encoding', 'imputation:strategy': 'mean', 'preprocessor:__choice__': 'fast_ica', 'regressor:__choice__': 'k_nearest_neighbors', 'rescaling:__choice__': 'none', 'categorical_encoding:one_hot_encoding:use_minimum_fraction': 'True', 'preprocessor:fast_ica:algorithm': 'parallel', 'preprocessor:fast_ica:fun': 'exp', 'preprocessor:fast_ica:whiten': 'True', 'regressor:k_nearest_neighbors:n_neighbors': 3, 'regressor:k_nearest_neighbors:p': 1, 'regressor:k_nearest_neighbors:weights': 'uniform', 'categorical_encoding:one_hot_encoding:minimum_fraction': 0.0019629036803487485, 'preprocessor:fast_ica:n_components': 924},\\ndataset_properties={\\n  'task': 4,\\n  'sparse': False,\\n  'multilabel': False,\\n  'multiclass': False,\\n  'target_type': 'regression',\\n  'signed': False})),\\n(0.100000, SimpleRegressionPipeline({'categorical_encoding:__choice__': 'one_hot_encoding', 'imputation:strategy': 'median', 'preprocessor:__choice__': 'extra_trees_preproc_for_regression', 'regressor:__choice__': 'extra_trees', 'rescaling:__choice__': 'normalize', 'categorical_encoding:one_hot_encoding:use_minimum_fraction': 'True', 'preprocessor:extra_trees_preproc_for_regression:bootstrap': 'False', 'preprocessor:extra_trees_preproc_for_regression:criterion': 'mse', 'preprocessor:extra_trees_preproc_for_regression:max_depth': 'None', 'preprocessor:extra_trees_preproc_for_regression:max_features': 0.4217455607131373, 'preprocessor:extra_trees_preproc_for_regression:max_leaf_nodes': 'None', 'preprocessor:extra_trees_preproc_for_regression:min_samples_leaf': 19, 'preprocessor:extra_trees_preproc_for_regression:min_samples_split': 12, 'preprocessor:extra_trees_preproc_for_regression:min_weight_fraction_leaf': 0.0, 'preprocessor:extra_trees_preproc_for_regression:n_estimators': 100, 'regressor:extra_trees:bootstrap': 'False', 'regressor:extra_trees:criterion': 'mse', 'regressor:extra_trees:max_depth': 'None', 'regressor:extra_trees:max_features': 1.0, 'regressor:extra_trees:max_leaf_nodes': 'None', 'regressor:extra_trees:min_impurity_decrease': 0.0, 'regressor:extra_trees:min_samples_leaf': 1, 'regressor:extra_trees:min_samples_split': 2, 'regressor:extra_trees:n_estimators': 100, 'categorical_encoding:one_hot_encoding:minimum_fraction': 0.010000000000000004},\\ndataset_properties={\\n  'task': 4,\\n  'sparse': False,\\n  'multilabel': False,\\n  'multiclass': False,\\n  'target_type': 'regression',\\n  'signed': False})),\\n(0.040000, SimpleRegressionPipeline({'categorical_encoding:__choice__': 'one_hot_encoding', 'imputation:strategy': 'mean', 'preprocessor:__choice__': 'feature_agglomeration', 'regressor:__choice__': 'random_forest', 'rescaling:__choice__': 'quantile_transformer', 'categorical_encoding:one_hot_encoding:use_minimum_fraction': 'False', 'preprocessor:feature_agglomeration:affinity': 'manhattan', 'preprocessor:feature_agglomeration:linkage': 'complete', 'preprocessor:feature_agglomeration:n_clusters': 319, 'preprocessor:feature_agglomeration:pooling_func': 'median', 'regressor:random_forest:bootstrap': 'True', 'regressor:random_forest:criterion': 'friedman_mse', 'regressor:random_forest:max_depth': 'None', 'regressor:random_forest:max_features': 0.5985365362214504, 'regressor:random_forest:max_leaf_nodes': 'None', 'regressor:random_forest:min_impurity_decrease': 0.0, 'regressor:random_forest:min_samples_leaf': 1, 'regressor:random_forest:min_samples_split': 2, 'regressor:random_forest:min_weight_fraction_leaf': 0.0, 'regressor:random_forest:n_estimators': 100, 'rescaling:quantile_transformer:n_quantiles': 583, 'rescaling:quantile_transformer:output_distribution': 'normal'},\\ndataset_properties={\\n  'task': 4,\\n  'sparse': False,\\n  'multilabel': False,\\n  'multiclass': False,\\n  'target_type': 'regression',\\n  'signed': False})),\\n(0.040000, SimpleRegressionPipeline({'categorical_encoding:__choice__': 'no_encoding', 'imputation:strategy': 'mean', 'preprocessor:__choice__': 'select_percentile_regression', 'regressor:__choice__': 'adaboost', 'rescaling:__choice__': 'none', 'preprocessor:select_percentile_regression:percentile': 39.994681205915924, 'preprocessor:select_percentile_regression:score_func': 'mutual_info', 'regressor:adaboost:learning_rate': 0.018531758173486602, 'regressor:adaboost:loss': 'linear', 'regressor:adaboost:max_depth': 9, 'regressor:adaboost:n_estimators': 446},\\ndataset_properties={\\n  'task': 4,\\n  'sparse': False,\\n  'multilabel': False,\\n  'multiclass': False,\\n  'target_type': 'regression',\\n  'signed': False})),\\n(0.040000, SimpleRegressionPipeline({'categorical_encoding:__choice__': 'one_hot_encoding', 'imputation:strategy': 'median', 'preprocessor:__choice__': 'feature_agglomeration', 'regressor:__choice__': 'adaboost', 'rescaling:__choice__': 'normalize', 'categorical_encoding:one_hot_encoding:use_minimum_fraction': 'True', 'preprocessor:feature_agglomeration:affinity': 'euclidean', 'preprocessor:feature_agglomeration:linkage': 'complete', 'preprocessor:feature_agglomeration:n_clusters': 322, 'preprocessor:feature_agglomeration:pooling_func': 'max', 'regressor:adaboost:learning_rate': 0.46216928285577746, 'regressor:adaboost:loss': 'exponential', 'regressor:adaboost:max_depth': 7, 'regressor:adaboost:n_estimators': 224, 'categorical_encoding:one_hot_encoding:minimum_fraction': 0.003929890475364168},\\ndataset_properties={\\n  'task': 4,\\n  'sparse': False,\\n  'multilabel': False,\\n  'multiclass': False,\\n  'target_type': 'regression',\\n  'signed': False})),\\n]\""
            ]
          },
          "metadata": {
            "tags": []
          },
          "execution_count": 52
        }
      ]
    },
    {
      "cell_type": "code",
      "metadata": {
        "id": "6YVLCD34zC__",
        "colab_type": "code",
        "colab": {}
      },
      "source": [
        ""
      ],
      "execution_count": 0,
      "outputs": []
    }
  ]
}