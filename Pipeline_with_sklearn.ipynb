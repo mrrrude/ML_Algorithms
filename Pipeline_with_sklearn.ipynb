{
  "nbformat": 4,
  "nbformat_minor": 0,
  "metadata": {
    "colab": {
      "name": "Pipeline_with_sklearn.ipynb",
      "provenance": []
    },
    "kernelspec": {
      "name": "python3",
      "display_name": "Python 3"
    }
  },
  "cells": [
    {
      "cell_type": "code",
      "metadata": {
        "id": "OCLqCv5COYp7",
        "colab_type": "code",
        "colab": {}
      },
      "source": [
        "import sklearn \n",
        "from sklearn import datasets\n",
        "from sklearn.model_selection import train_test_split\n",
        "from sklearn.datasets import load_iris"
      ],
      "execution_count": 0,
      "outputs": []
    },
    {
      "cell_type": "code",
      "metadata": {
        "id": "xaa3P-WvOryc",
        "colab_type": "code",
        "colab": {}
      },
      "source": [
        "from sklearn.preprocessing import StandardScaler\n",
        "from sklearn.decomposition import PCA"
      ],
      "execution_count": 0,
      "outputs": []
    },
    {
      "cell_type": "code",
      "metadata": {
        "id": "k9nP3ogkPMrt",
        "colab_type": "code",
        "outputId": "3ae97963-2934-495f-e52a-1669138732aa",
        "colab": {
          "base_uri": "https://localhost:8080/",
          "height": 74
        }
      },
      "source": [
        "from sklearn.pipeline import Pipeline\n",
        "from sklearn.externals import joblib\n",
        "from sklearn.linear_model import LogisticRegression\n",
        "from sklearn.tree import DecisionTreeClassifier\n",
        "from sklearn.ensemble import RandomForestClassifier"
      ],
      "execution_count": 4,
      "outputs": [
        {
          "output_type": "stream",
          "text": [
            "/usr/local/lib/python3.6/dist-packages/sklearn/externals/joblib/__init__.py:15: FutureWarning: sklearn.externals.joblib is deprecated in 0.21 and will be removed in 0.23. Please import this functionality directly from joblib, which can be installed with: pip install joblib. If this warning is raised when loading pickled models, you may need to re-serialize those models with scikit-learn 0.21+.\n",
            "  warnings.warn(msg, category=FutureWarning)\n"
          ],
          "name": "stderr"
        }
      ]
    },
    {
      "cell_type": "code",
      "metadata": {
        "id": "inRYrjVzPyYF",
        "colab_type": "code",
        "colab": {}
      },
      "source": [
        "df=load_iris()"
      ],
      "execution_count": 0,
      "outputs": []
    },
    {
      "cell_type": "code",
      "metadata": {
        "id": "MUjkVQvcQNUP",
        "colab_type": "code",
        "colab": {}
      },
      "source": [
        "X_train , X_test , y_train , y_test= train_test_split(df.data, df.target, test_size=0.3, random_state=0)\n"
      ],
      "execution_count": 0,
      "outputs": []
    },
    {
      "cell_type": "code",
      "metadata": {
        "id": "IQ6XHG-RQPel",
        "colab_type": "code",
        "colab": {}
      },
      "source": [
        "pipeline_lr= Pipeline([('scalar1' , StandardScaler()),\n",
        "                       ('pca1', PCA(n_components=2)),\n",
        "                       ('model1',LogisticRegression(random_state=0))])"
      ],
      "execution_count": 0,
      "outputs": []
    },
    {
      "cell_type": "code",
      "metadata": {
        "id": "NBKSUzhwRT6v",
        "colab_type": "code",
        "colab": {}
      },
      "source": [
        "pipeline_dt=Pipeline([('scalar2' , StandardScaler()),\n",
        "                      ('pca2',PCA(n_components=2)),\n",
        "                      ('model2',DecisionTreeClassifier())])"
      ],
      "execution_count": 0,
      "outputs": []
    },
    {
      "cell_type": "code",
      "metadata": {
        "id": "5sB19ds6T0Sm",
        "colab_type": "code",
        "colab": {}
      },
      "source": [
        "pipeline_rf=Pipeline([('scalar3' , StandardScaler()),\n",
        "                      ('pca3',PCA(n_components=2)),\n",
        "                      ('model3', RandomForestClassifier())\n",
        "                      ])"
      ],
      "execution_count": 0,
      "outputs": []
    },
    {
      "cell_type": "code",
      "metadata": {
        "id": "X75d8Xk2Vq4t",
        "colab_type": "code",
        "colab": {}
      },
      "source": [
        "pipe_list=[pipeline_lr, pipeline_dt, pipeline_rf]\n",
        "pipe_dict= { 0: 'Logistic_Regression',1:'Decision_Tree', 2:'Random_Forest' \n",
        "            }\n",
        "best_accuracy=0.0,\n",
        "best_classifier=0\n",
        "best_pipeline=0"
      ],
      "execution_count": 0,
      "outputs": []
    },
    {
      "cell_type": "code",
      "metadata": {
        "id": "tgK-To-rxMdF",
        "colab_type": "code",
        "colab": {}
      },
      "source": [
        "for pipe in pipe_list:\n",
        "  pipe.fit(X_train , y_train)"
      ],
      "execution_count": 0,
      "outputs": []
    },
    {
      "cell_type": "code",
      "metadata": {
        "id": "5LQt-l9AyiZv",
        "colab_type": "code",
        "colab": {
          "base_uri": "https://localhost:8080/",
          "height": 73
        },
        "outputId": "684c5130-c666-4b31-9e62-2301dfb21851"
      },
      "source": [
        "for i, model in enumerate(pipe_list):\n",
        "  print(\"{} Test Accuracy : {}\" .format(pipe_dict[i],model.score(X_test, y_test)))"
      ],
      "execution_count": 13,
      "outputs": [
        {
          "output_type": "stream",
          "text": [
            "Logistic_Regression Test Accuracy : 0.8666666666666667\n",
            "Decision_Tree Test Accuracy : 0.9111111111111111\n",
            "Random_Forest Test Accuracy : 0.9111111111111111\n"
          ],
          "name": "stdout"
        }
      ]
    },
    {
      "cell_type": "code",
      "metadata": {
        "id": "yj1JMnBky5cu",
        "colab_type": "code",
        "colab": {
          "base_uri": "https://localhost:8080/",
          "height": 54
        },
        "outputId": "71c63a8f-3f22-46c0-a0d4-a76ab42207d4"
      },
      "source": [
        "for i,model in enumerate(pipe_list):\n",
        "  if model.score(X_test, y_test)>best_accuracy:\n",
        "    best_accuracy=model.score(X_test, y_test)\n",
        "    best_pipeline=model\n",
        "    best_classifier=i\n",
        "print('classifer with best accuracy : {}'.format(pipe_dict[best_classifier]))\n",
        "print(best_accuracy)"
      ],
      "execution_count": 16,
      "outputs": [
        {
          "output_type": "stream",
          "text": [
            "classifer with best accuracy : Decision_Tree\n",
            "0.9111111111111111\n"
          ],
          "name": "stdout"
        }
      ]
    },
    {
      "cell_type": "code",
      "metadata": {
        "id": "QupXoGEw0Tw1",
        "colab_type": "code",
        "colab": {}
      },
      "source": [
        ""
      ],
      "execution_count": 0,
      "outputs": []
    }
  ]
}